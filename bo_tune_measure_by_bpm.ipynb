{
 "cells": [
  {
   "cell_type": "markdown",
   "id": "c0cf1a94",
   "metadata": {},
   "source": [
    "Switching to the right branch"
   ]
  },
  {
   "cell_type": "code",
   "execution_count": null,
   "id": "346a59ce",
   "metadata": {
    "ExecuteTime": {
     "end_time": "2022-02-14T13:32:32.854644Z",
     "start_time": "2022-02-14T13:32:32.719252Z"
    }
   },
   "outputs": [],
   "source": [
    "%cd /home/facs/repos/apsuite\n",
    "!git checkout bo_tune_measure_bpm"
   ]
  },
  {
   "cell_type": "code",
   "execution_count": 4,
   "id": "c5320356",
   "metadata": {
    "ExecuteTime": {
     "end_time": "2022-02-14T13:34:51.876848Z",
     "start_time": "2022-02-14T13:34:50.826873Z"
    }
   },
   "outputs": [],
   "source": [
    "%matplotlib qt5\n",
    "\n",
    "import numpy as np\n",
    "import matplotlib as plt\n",
    "from apsuite.commisslib.measure_tune_bpm import BPMeasureParams\n",
    "from apsuite.commisslib.measure_tune_bpm import BPMeasure"
   ]
  },
  {
   "cell_type": "markdown",
   "id": "ebc06f32",
   "metadata": {},
   "source": [
    "Setting the parameters"
   ]
  },
  {
   "cell_type": "code",
   "execution_count": 5,
   "id": "b03af0f5",
   "metadata": {
    "ExecuteTime": {
     "end_time": "2022-02-14T13:41:59.190674Z",
     "start_time": "2022-02-14T13:41:59.188141Z"
    }
   },
   "outputs": [],
   "source": [
    "params = BPMeasureParams()\n",
    "\n",
    "params.trigger_source = 'DigBO'\n",
    "params.trigger_source_mode = 'Injection'\n",
    "params.bpms_timeout = 30  \n",
    "params.extra_delay = 280 # measure starts at the ramp top\n",
    "params.nr_pulses = 1\n",
    "params.nr_points_after = 20000\n",
    "params.nr_points_before = 0"
   ]
  },
  {
   "cell_type": "markdown",
   "id": "78b62c03",
   "metadata": {},
   "source": [
    "Configure bpms and get orbit data"
   ]
  },
  {
   "cell_type": "code",
   "execution_count": 6,
   "id": "0fd1d8dd",
   "metadata": {
    "ExecuteTime": {
     "end_time": "2022-02-14T13:46:28.533351Z",
     "start_time": "2022-02-14T13:46:26.414664Z"
    }
   },
   "outputs": [],
   "source": [
    "measure = BPMeasure(params=params, isonline=True)"
   ]
  },
  {
   "cell_type": "code",
   "execution_count": null,
   "id": "37fe4b8b",
   "metadata": {
    "ExecuteTime": {
     "end_time": "2022-02-14T13:46:31.452412Z",
     "start_time": "2022-02-14T13:46:31.357276Z"
    },
    "scrolled": true
   },
   "outputs": [],
   "source": [
    "measure.configure_bpms()"
   ]
  },
  {
   "cell_type": "code",
   "execution_count": null,
   "id": "419fdcf7",
   "metadata": {},
   "outputs": [],
   "source": [
    "measure.get_orbit_data(injection=True, external_trigger=False)"
   ]
  },
  {
   "cell_type": "code",
   "execution_count": null,
   "id": "18dd91e8",
   "metadata": {},
   "outputs": [],
   "source": [
    "measure.save_data(fname=\"bo_tbt_data\")"
   ]
  },
  {
   "cell_type": "markdown",
   "id": "dca7fe17",
   "metadata": {},
   "source": [
    "Looking at the data"
   ]
  },
  {
   "cell_type": "code",
   "execution_count": null,
   "id": "766de4c2",
   "metadata": {
    "ExecuteTime": {
     "end_time": "2022-02-14T13:56:09.786643Z",
     "start_time": "2022-02-14T13:56:09.781114Z"
    }
   },
   "outputs": [],
   "source": [
    "data = measure.data\n",
    "orbx0, orby0 = data['orbx'][:, 0], data['orby'][:, 0]"
   ]
  },
  {
   "cell_type": "code",
   "execution_count": null,
   "id": "6b8a5fb1",
   "metadata": {},
   "outputs": [],
   "source": [
    "ax,fig = plt.subplots(2,1, sharex=True)\n",
    "ax[0].plot(orbx0)\n",
    "ax[1].plot(orby0)\n",
    "ax[1].set_xlabel('Turns')\n",
    "ax[0].set_ylabel('x')\n",
    "ax[1].set_ylabel('y')"
   ]
  },
  {
   "cell_type": "markdown",
   "id": "41b7e312",
   "metadata": {},
   "source": [
    "Tune analysis"
   ]
  },
  {
   "cell_type": "code",
   "execution_count": null,
   "id": "b73bfd90",
   "metadata": {},
   "outputs": [],
   "source": [
    "spectrumx, spectrumy, freqs = measure.dft(bpm_indices=[0])\n",
    "plt.plot(spectrumx)"
   ]
  },
  {
   "cell_type": "code",
   "execution_count": null,
   "id": "15b73289",
   "metadata": {},
   "outputs": [],
   "source": [
    "tune1, tune2 = measure.naff_tunes(self, dn=200, window_param=1, bpm_indices=None)\n",
    "plt.plot(tune1)\n",
    "plt.plot(tune2)\n",
    "plt.title('Tune evolution')\n",
    "plt.xlabel('Turns')\n",
    "pĺt.ylabel(r'$\\nu$')"
   ]
  },
  {
   "cell_type": "code",
   "execution_count": null,
   "id": "fe15a484",
   "metadata": {},
   "outputs": [],
   "source": [
    "# Using all bpms to make spectrogram \n",
    "tune1_matrix, tune2_matrix, freqs = spectrogram(self, dn=None, overlap=True, bpm_indices=None)"
   ]
  }
 ],
 "metadata": {
  "kernelspec": {
   "display_name": "Python 3",
   "language": "python",
   "name": "python3"
  },
  "language_info": {
   "codemirror_mode": {
    "name": "ipython",
    "version": 3
   },
   "file_extension": ".py",
   "mimetype": "text/x-python",
   "name": "python",
   "nbconvert_exporter": "python",
   "pygments_lexer": "ipython3",
   "version": "3.6.9"
  },
  "latex_envs": {
   "LaTeX_envs_menu_present": true,
   "autoclose": false,
   "autocomplete": true,
   "bibliofile": "biblio.bib",
   "cite_by": "apalike",
   "current_citInitial": 1,
   "eqLabelWithNumbers": true,
   "eqNumInitial": 1,
   "hotkeys": {
    "equation": "Ctrl-E",
    "itemize": "Ctrl-I"
   },
   "labels_anchors": false,
   "latex_user_defs": false,
   "report_style_numbering": false,
   "user_envs_cfg": false
  },
  "toc": {
   "base_numbering": 1,
   "nav_menu": {},
   "number_sections": true,
   "sideBar": true,
   "skip_h1_title": false,
   "title_cell": "Table of Contents",
   "title_sidebar": "Contents",
   "toc_cell": false,
   "toc_position": {},
   "toc_section_display": true,
   "toc_window_display": false
  },
  "varInspector": {
   "cols": {
    "lenName": 16,
    "lenType": 16,
    "lenVar": 40
   },
   "kernels_config": {
    "python": {
     "delete_cmd_postfix": "",
     "delete_cmd_prefix": "del ",
     "library": "var_list.py",
     "varRefreshCmd": "print(var_dic_list())"
    },
    "r": {
     "delete_cmd_postfix": ") ",
     "delete_cmd_prefix": "rm(",
     "library": "var_list.r",
     "varRefreshCmd": "cat(var_dic_list()) "
    }
   },
   "types_to_exclude": [
    "module",
    "function",
    "builtin_function_or_method",
    "instance",
    "_Feature"
   ],
   "window_display": false
  }
 },
 "nbformat": 4,
 "nbformat_minor": 5
}
