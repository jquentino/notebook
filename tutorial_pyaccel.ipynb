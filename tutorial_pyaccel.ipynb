{
 "cells": [
  {
   "cell_type": "code",
   "execution_count": null,
   "metadata": {
    "ExecuteTime": {
     "end_time": "2022-08-10T17:56:36.528908Z",
     "start_time": "2022-08-10T17:56:36.387474Z"
    }
   },
   "outputs": [],
   "source": [
    "#%matplotlib qt5\n",
    "%matplotlib inline\n",
    "\n",
    "import numpy as np\n",
    "import matplotlib.pyplot as plt\n",
    "from matplotlib import rcParams\n",
    "\n",
    "rcParams.update({\n",
    "    'font.size': 14, 'grid.alpha': 0.5, 'grid.linestyle': '--',\n",
    "    'axes.grid': True,\n",
    "})"
   ]
  },
  {
   "cell_type": "markdown",
   "metadata": {
    "heading_collapsed": true
   },
   "source": [
    "# Pymodels\n",
    "\n",
    "Python module for accelerator modelling"
   ]
  },
  {
   "cell_type": "markdown",
   "metadata": {
    "hidden": true
   },
   "source": [
    "### Accelerator Models\n",
    "\n",
    "- Linac: li\n",
    "- Transport Line - Linac to Booster: tb\n",
    "- Booster: bo\n",
    "- Transport Line - Booster to Sirius: ts\n",
    "- Sirius (Storage Ring): si"
   ]
  },
  {
   "cell_type": "code",
   "execution_count": null,
   "metadata": {
    "ExecuteTime": {
     "end_time": "2022-08-10T17:57:13.082696Z",
     "start_time": "2022-08-10T17:57:12.931237Z"
    },
    "hidden": true
   },
   "outputs": [],
   "source": [
    "import pymodels"
   ]
  },
  {
   "cell_type": "code",
   "execution_count": null,
   "metadata": {
    "ExecuteTime": {
     "end_time": "2022-03-21T13:56:21.543058Z",
     "start_time": "2022-03-21T13:56:21.304646Z"
    },
    "hidden": true
   },
   "outputs": [],
   "source": [
    "model = pymodels.si.create_accelerator()\n",
    "model.cavity_on = False\n",
    "model.radiation_on = False\n",
    "model.vchamber_on = False"
   ]
  },
  {
   "cell_type": "code",
   "execution_count": null,
   "metadata": {
    "ExecuteTime": {
     "end_time": "2022-03-21T13:56:22.826968Z",
     "start_time": "2022-03-21T13:56:22.824434Z"
    },
    "hidden": true
   },
   "outputs": [],
   "source": [
    "print(model)"
   ]
  },
  {
   "cell_type": "markdown",
   "metadata": {
    "ExecuteTime": {
     "end_time": "2022-03-21T14:02:21.242387Z",
     "start_time": "2022-03-21T14:02:21.237378Z"
    },
    "hidden": true
   },
   "source": [
    "**Family** = A set of objects of exactly same type. \n",
    "\n",
    "Examples:\n",
    "- Central Dipoles (BC)\n",
    "- Focusing quadrupoles in high beta segments (QFA)\n",
    "- Beam Position Monitors (BPM)\n",
    "\n",
    "Getting data about families:"
   ]
  },
  {
   "cell_type": "code",
   "execution_count": null,
   "metadata": {
    "ExecuteTime": {
     "end_time": "2022-03-21T13:56:25.444661Z",
     "start_time": "2022-03-21T13:56:24.888325Z"
    },
    "hidden": true
   },
   "outputs": [],
   "source": [
    "# fam_name with devname, index, subsection\n",
    "famdata = pymodels.si.get_family_data(model)"
   ]
  },
  {
   "cell_type": "code",
   "execution_count": null,
   "metadata": {
    "ExecuteTime": {
     "end_time": "2022-03-21T13:57:42.354324Z",
     "start_time": "2022-03-21T13:57:42.343525Z"
    },
    "hidden": true
   },
   "outputs": [],
   "source": [
    "famdata['BC']['subsection']"
   ]
  },
  {
   "cell_type": "code",
   "execution_count": null,
   "metadata": {
    "ExecuteTime": {
     "end_time": "2022-03-21T13:59:02.171983Z",
     "start_time": "2022-03-21T13:59:02.165773Z"
    },
    "hidden": true,
    "scrolled": true
   },
   "outputs": [],
   "source": [
    "famdata['BC']['index']"
   ]
  },
  {
   "cell_type": "markdown",
   "metadata": {
    "hidden": true
   },
   "source": [
    "Some families have devnames keys:"
   ]
  },
  {
   "cell_type": "code",
   "execution_count": null,
   "metadata": {
    "ExecuteTime": {
     "end_time": "2022-03-21T14:20:20.364453Z",
     "start_time": "2022-03-21T14:20:20.360290Z"
    },
    "hidden": true
   },
   "outputs": [],
   "source": [
    "famdata['BPM']['devnames']"
   ]
  },
  {
   "cell_type": "markdown",
   "metadata": {
    "hidden": true
   },
   "source": [
    "Finding out the families names"
   ]
  },
  {
   "cell_type": "code",
   "execution_count": null,
   "metadata": {
    "ExecuteTime": {
     "end_time": "2021-10-20T14:29:29.351281Z",
     "start_time": "2021-10-20T14:29:29.241468Z"
    },
    "hidden": true
   },
   "outputs": [],
   "source": [
    "pymodels.si.families.families_pulsed_magnets()"
   ]
  },
  {
   "cell_type": "code",
   "execution_count": null,
   "metadata": {
    "ExecuteTime": {
     "end_time": "2021-10-20T14:29:29.573015Z",
     "start_time": "2021-10-20T14:29:29.461701Z"
    },
    "hidden": true
   },
   "outputs": [],
   "source": [
    "pymodels.si.families.families_dipoles()"
   ]
  },
  {
   "cell_type": "code",
   "execution_count": null,
   "metadata": {
    "ExecuteTime": {
     "end_time": "2021-10-20T14:29:29.711329Z",
     "start_time": "2021-10-20T14:29:29.577289Z"
    },
    "hidden": true
   },
   "outputs": [],
   "source": [
    "pymodels.si.families.families_quadrupoles()"
   ]
  },
  {
   "cell_type": "code",
   "execution_count": null,
   "metadata": {
    "ExecuteTime": {
     "end_time": "2021-10-20T14:29:29.815081Z",
     "start_time": "2021-10-20T14:29:29.712685Z"
    },
    "hidden": true
   },
   "outputs": [],
   "source": [
    "pymodels.si.families.families_sextupoles()"
   ]
  },
  {
   "cell_type": "code",
   "execution_count": null,
   "metadata": {
    "ExecuteTime": {
     "end_time": "2022-03-21T14:01:57.450707Z",
     "start_time": "2022-03-21T14:01:57.445585Z"
    },
    "hidden": true
   },
   "outputs": [],
   "source": [
    "# Diagnostic families\n",
    "pymodels.si.families.families_di()"
   ]
  },
  {
   "cell_type": "markdown",
   "metadata": {
    "hidden": true
   },
   "source": [
    "Extracting PVs information"
   ]
  },
  {
   "cell_type": "code",
   "execution_count": null,
   "metadata": {
    "ExecuteTime": {
     "end_time": "2022-03-21T14:05:17.695392Z",
     "start_time": "2022-03-21T14:05:17.189516Z"
    },
    "hidden": true
   },
   "outputs": [],
   "source": [
    "from siriuspy.epics import PV"
   ]
  },
  {
   "cell_type": "code",
   "execution_count": null,
   "metadata": {
    "ExecuteTime": {
     "end_time": "2022-03-21T14:07:24.018855Z",
     "start_time": "2022-03-21T14:07:24.016491Z"
    },
    "hidden": true
   },
   "outputs": [],
   "source": [
    "# Instantiating the first BPM PV whose measures the x position of the beam.\n",
    "bpm1 = PV(famdata['BPM']['devnames'][1]+':PosX-Mon')"
   ]
  },
  {
   "cell_type": "code",
   "execution_count": null,
   "metadata": {
    "ExecuteTime": {
     "end_time": "2022-03-21T14:05:41.260381Z",
     "start_time": "2022-03-21T14:05:41.254900Z"
    },
    "hidden": true
   },
   "outputs": [],
   "source": [
    "bpm1.get()"
   ]
  },
  {
   "cell_type": "markdown",
   "metadata": {
    "heading_collapsed": true,
    "hidden": true
   },
   "source": [
    "### Elements Types\n",
    "markers, drifts, dipoles, quadrupoles, sextupoles, cavity"
   ]
  },
  {
   "cell_type": "code",
   "execution_count": null,
   "metadata": {
    "ExecuteTime": {
     "end_time": "2021-10-20T14:29:30.045387Z",
     "start_time": "2021-10-20T14:29:29.929690Z"
    },
    "hidden": true
   },
   "outputs": [],
   "source": [
    "# Marker\n",
    "print(model[0])"
   ]
  },
  {
   "cell_type": "code",
   "execution_count": null,
   "metadata": {
    "ExecuteTime": {
     "end_time": "2021-10-20T14:29:30.127074Z",
     "start_time": "2021-10-20T14:29:30.047623Z"
    },
    "hidden": true,
    "scrolled": true
   },
   "outputs": [],
   "source": [
    "# Drift\n",
    "print(model[2])"
   ]
  },
  {
   "cell_type": "code",
   "execution_count": null,
   "metadata": {
    "ExecuteTime": {
     "end_time": "2021-10-20T14:29:30.232406Z",
     "start_time": "2021-10-20T14:29:30.128548Z"
    },
    "hidden": true
   },
   "outputs": [],
   "source": [
    "# 20 BC dipoles divided in 34 segments\n",
    "bc_idx = famdata['BC']['index']\n",
    "np.array(bc_idx).shape"
   ]
  },
  {
   "cell_type": "code",
   "execution_count": null,
   "metadata": {
    "ExecuteTime": {
     "end_time": "2021-10-20T14:29:30.341015Z",
     "start_time": "2021-10-20T14:29:30.236855Z"
    },
    "hidden": true
   },
   "outputs": [],
   "source": [
    "bc_elem = model[bc_idx[0][0]]\n",
    "print(bc_elem) \n",
    "# Pay attention at the angle property:"
   ]
  },
  {
   "cell_type": "code",
   "execution_count": null,
   "metadata": {
    "ExecuteTime": {
     "end_time": "2022-03-21T14:22:40.553224Z",
     "start_time": "2022-03-21T14:22:40.550384Z"
    },
    "hidden": true
   },
   "outputs": [],
   "source": [
    "# quadrupole\n",
    "q1_idx = famdata['Q1']['index']\n",
    "np.array(q1_idx).shape"
   ]
  },
  {
   "cell_type": "code",
   "execution_count": null,
   "metadata": {
    "ExecuteTime": {
     "end_time": "2022-03-21T14:22:47.253553Z",
     "start_time": "2022-03-21T14:22:47.250751Z"
    },
    "hidden": true
   },
   "outputs": [],
   "source": [
    "# quadrupole skew\n",
    "qs_idx = famdata['QS']['index']\n",
    "np.array(qs_idx).shape"
   ]
  },
  {
   "cell_type": "code",
   "execution_count": null,
   "metadata": {
    "ExecuteTime": {
     "end_time": "2022-03-21T14:25:15.632852Z",
     "start_time": "2022-03-21T14:25:15.629748Z"
    },
    "hidden": true
   },
   "outputs": [],
   "source": [
    "qs_elem = model[qs_idx[0][0]]\n",
    "print(qs_elem)"
   ]
  },
  {
   "cell_type": "code",
   "execution_count": null,
   "metadata": {
    "ExecuteTime": {
     "end_time": "2021-10-04T15:20:42.067778Z",
     "start_time": "2021-10-04T15:20:42.002815Z"
    },
    "hidden": true
   },
   "outputs": [],
   "source": [
    "q1_elem = model[q1_idx[0][0]]\n",
    "print(q1_elem)"
   ]
  },
  {
   "cell_type": "markdown",
   "metadata": {
    "ExecuteTime": {
     "end_time": "2022-03-21T14:29:21.303504Z",
     "start_time": "2022-03-21T14:29:21.294678Z"
    },
    "hidden": true
   },
   "source": [
    "Extracting the KL term of an element"
   ]
  },
  {
   "cell_type": "code",
   "execution_count": null,
   "metadata": {
    "ExecuteTime": {
     "end_time": "2021-10-04T15:20:42.125755Z",
     "start_time": "2021-10-04T15:20:42.069424Z"
    },
    "hidden": true
   },
   "outputs": [],
   "source": [
    "q1_elem.KL, q1_elem.polynom_b[1]*q1_elem.length"
   ]
  },
  {
   "cell_type": "code",
   "execution_count": null,
   "metadata": {
    "ExecuteTime": {
     "end_time": "2021-10-04T15:20:42.184577Z",
     "start_time": "2021-10-04T15:20:42.127144Z"
    },
    "hidden": true
   },
   "outputs": [],
   "source": [
    "# sextupole\n",
    "sfa0_idx = famdata['SFA0']['index']\n",
    "np.array(sfa0_idx).shape"
   ]
  },
  {
   "cell_type": "code",
   "execution_count": null,
   "metadata": {
    "ExecuteTime": {
     "end_time": "2021-10-04T15:20:42.249616Z",
     "start_time": "2021-10-04T15:20:42.186250Z"
    },
    "hidden": true,
    "scrolled": false
   },
   "outputs": [],
   "source": [
    "sfa0_elem = model[sfa0_idx[0][0]]\n",
    "print(sfa0_elem)"
   ]
  },
  {
   "cell_type": "markdown",
   "metadata": {
    "hidden": true
   },
   "source": [
    "Extracting the SL term of an element"
   ]
  },
  {
   "cell_type": "code",
   "execution_count": null,
   "metadata": {
    "ExecuteTime": {
     "end_time": "2021-10-04T15:20:42.332319Z",
     "start_time": "2021-10-04T15:20:42.255113Z"
    },
    "hidden": true
   },
   "outputs": [],
   "source": [
    "sfa0_elem.SL, sfa0_elem.polynom_b[2]*sfa0_elem.length"
   ]
  },
  {
   "cell_type": "code",
   "execution_count": null,
   "metadata": {
    "ExecuteTime": {
     "end_time": "2021-10-04T15:20:42.402294Z",
     "start_time": "2021-10-04T15:20:42.338151Z"
    },
    "hidden": true
   },
   "outputs": [],
   "source": [
    "cav_idx = famdata['SRFCav']['index']\n",
    "cav_elem = model[cav_idx[0][0]]\n",
    "print(cav_elem)"
   ]
  },
  {
   "cell_type": "markdown",
   "metadata": {},
   "source": [
    "# Pyaccel\n",
    "\n",
    "Python module for beam dynamics tracking and optics calculations\n",
    "\n",
    "accelerator, elements, lattice, optics, tracking"
   ]
  },
  {
   "cell_type": "code",
   "execution_count": null,
   "metadata": {
    "ExecuteTime": {
     "end_time": "2022-03-21T14:40:55.313606Z",
     "start_time": "2022-03-21T14:40:55.309452Z"
    }
   },
   "outputs": [],
   "source": [
    "import pyaccel"
   ]
  },
  {
   "cell_type": "markdown",
   "metadata": {},
   "source": [
    "### Model manipulation"
   ]
  },
  {
   "cell_type": "markdown",
   "metadata": {},
   "source": [
    "Getting the $s$ coordinate of all elements in the lattice:"
   ]
  },
  {
   "cell_type": "code",
   "execution_count": null,
   "metadata": {
    "ExecuteTime": {
     "end_time": "2021-10-04T15:20:42.668163Z",
     "start_time": "2021-10-04T15:20:42.478478Z"
    }
   },
   "outputs": [],
   "source": [
    "spos = pyaccel.lattice.find_spos(model)\n",
    "spos"
   ]
  },
  {
   "cell_type": "markdown",
   "metadata": {},
   "source": [
    "Finding indexes of a family present in the model."
   ]
  },
  {
   "cell_type": "code",
   "execution_count": null,
   "metadata": {
    "ExecuteTime": {
     "end_time": "2021-10-04T15:20:42.730949Z",
     "start_time": "2021-10-04T15:20:42.669159Z"
    }
   },
   "outputs": [],
   "source": [
    "cav_idx = pyaccel.lattice.find_indices(lattice=model, attribute_name='fam_name', value='SRFCav')\n",
    "cav_idx, famdata['SRFCav']['index']"
   ]
  },
  {
   "cell_type": "markdown",
   "metadata": {},
   "source": [
    "Getting an attribute"
   ]
  },
  {
   "cell_type": "code",
   "execution_count": null,
   "metadata": {
    "ExecuteTime": {
     "end_time": "2021-10-04T15:20:42.804025Z",
     "start_time": "2021-10-04T15:20:42.732091Z"
    }
   },
   "outputs": [],
   "source": [
    "rf_freq = pyaccel.lattice.get_attribute(model, 'frequency', indices=cav_idx)\n",
    "rf_freq, model[cav_idx[0]].frequency"
   ]
  },
  {
   "cell_type": "markdown",
   "metadata": {},
   "source": [
    "Setting an attribute"
   ]
  },
  {
   "cell_type": "code",
   "execution_count": null,
   "metadata": {
    "ExecuteTime": {
     "end_time": "2021-10-04T15:20:42.889788Z",
     "start_time": "2021-10-04T15:20:42.806031Z"
    }
   },
   "outputs": [],
   "source": [
    "pyaccel.lattice.set_attribute(model, 'frequency', indices=cav_idx, values=rf_freq+1)\n",
    "model[cav_idx[0]].frequency"
   ]
  },
  {
   "cell_type": "markdown",
   "metadata": {},
   "source": [
    "Setting and getting attributes using the short command: "
   ]
  },
  {
   "cell_type": "code",
   "execution_count": null,
   "metadata": {
    "ExecuteTime": {
     "end_time": "2021-10-04T15:20:42.963793Z",
     "start_time": "2021-10-04T15:20:42.895046Z"
    }
   },
   "outputs": [],
   "source": [
    "model[cav_idx[0]].frequency = rf_freq\n",
    "model[cav_idx[0]].frequency"
   ]
  },
  {
   "cell_type": "markdown",
   "metadata": {
    "ExecuteTime": {
     "end_time": "2021-09-16T17:46:25.058097Z",
     "start_time": "2021-09-16T17:46:25.052544Z"
    }
   },
   "source": [
    "### Optics functions"
   ]
  },
  {
   "cell_type": "code",
   "execution_count": null,
   "metadata": {
    "ExecuteTime": {
     "end_time": "2022-08-10T17:59:35.166617Z",
     "start_time": "2022-08-10T17:59:34.787482Z"
    }
   },
   "outputs": [],
   "source": [
    "model = pyaccel.lattice.refine_lattice(model)\n",
    "twiss, *_ = pyaccel.optics.calc_twiss(model)\n",
    "\n",
    "## For coupled motion, you can use the Edwards-Teng functions:\n",
    "#edteng,*_ = pyaccel.optics.calc_edwards_teng(model)  "
   ]
  },
  {
   "cell_type": "code",
   "execution_count": null,
   "metadata": {
    "ExecuteTime": {
     "end_time": "2021-10-08T21:33:33.681005Z",
     "start_time": "2021-10-08T21:33:33.678376Z"
    }
   },
   "outputs": [],
   "source": [
    "betax, betay = twiss.betax, twiss.betay  # Beta functions\n",
    "etax, etay = twiss.etax, twiss.etay      # Dispersion functions\n",
    "mux, muy = twiss.mux, twiss.muy          # Phase advance\n",
    "spos = twiss.spos                        # s coordinate"
   ]
  },
  {
   "cell_type": "code",
   "execution_count": null,
   "metadata": {
    "ExecuteTime": {
     "end_time": "2021-10-04T15:20:45.643930Z",
     "start_time": "2021-10-04T15:20:43.501224Z"
    }
   },
   "outputs": [],
   "source": [
    "plt.figure()\n",
    "plt.plot(spos, betax, label=r'$\\beta_x$')\n",
    "plt.plot(spos, betay, label=r'$\\beta_y$')\n",
    "plt.xlabel('s [m]')\n",
    "plt.ylabel(r'$\\beta$ [m]')\n",
    "plt.title('Beta functions')\n",
    "plt.xlim([0, model.length/5])\n",
    "plt.ylim([-5, 30])\n",
    "plt.legend()\n",
    "pyaccel.graphics.draw_lattice(model, offset=-3, height=3, gca=True)\n",
    "plt.tight_layout()\n",
    "plt.show()"
   ]
  },
  {
   "cell_type": "code",
   "execution_count": null,
   "metadata": {
    "ExecuteTime": {
     "end_time": "2021-10-04T15:20:47.196173Z",
     "start_time": "2021-10-04T15:20:45.645214Z"
    }
   },
   "outputs": [],
   "source": [
    "plt.figure()\n",
    "plt.plot(spos, etax*100, label=r'$\\eta_x$', color='C2')\n",
    "plt.plot(spos, etay*100, label=r'$\\eta_y$', color='C3')\n",
    "plt.xlabel('s [m]')\n",
    "plt.ylabel(r'$\\eta$ [cm]')\n",
    "plt.title('Dispersion functions')\n",
    "plt.xlim([0, model.length/5])\n",
    "plt.ylim([-3, 9])\n",
    "plt.legend()\n",
    "pyaccel.graphics.draw_lattice(model, offset=-1.2, height=1.0, gca=True)\n",
    "plt.tight_layout()\n",
    "plt.show()"
   ]
  },
  {
   "cell_type": "code",
   "execution_count": null,
   "metadata": {
    "ExecuteTime": {
     "end_time": "2021-10-04T15:20:47.199678Z",
     "start_time": "2021-10-04T15:20:47.197223Z"
    }
   },
   "outputs": [],
   "source": [
    "# Tunes\n",
    "mux[-1]/2/np.pi, muy[-1]/2/np.pi"
   ]
  },
  {
   "cell_type": "code",
   "execution_count": null,
   "metadata": {
    "ExecuteTime": {
     "end_time": "2021-10-04T15:20:47.597832Z",
     "start_time": "2021-10-04T15:20:47.200753Z"
    }
   },
   "outputs": [],
   "source": [
    "# Chromaticities\n",
    "pyaccel.optics.get_chromaticities(model)"
   ]
  },
  {
   "cell_type": "markdown",
   "metadata": {},
   "source": [
    "### Equilibrium Parameters"
   ]
  },
  {
   "cell_type": "code",
   "execution_count": null,
   "metadata": {
    "ExecuteTime": {
     "end_time": "2022-08-10T17:58:50.432092Z",
     "start_time": "2022-08-10T17:58:50.051278Z"
    }
   },
   "outputs": [],
   "source": [
    "# eqparam = pyaccel.optics.EquilibriumParametersIntegrals(model)\n",
    "eqparam = pyaccel.optics.EqParamsFromBeamEnvelope(model)"
   ]
  },
  {
   "cell_type": "code",
   "execution_count": null,
   "metadata": {
    "ExecuteTime": {
     "end_time": "2021-10-04T15:20:49.389521Z",
     "start_time": "2021-10-04T15:20:48.746700Z"
    }
   },
   "outputs": [],
   "source": [
    "print(eqparam)"
   ]
  },
  {
   "cell_type": "code",
   "execution_count": null,
   "metadata": {
    "ExecuteTime": {
     "end_time": "2021-10-04T15:20:50.894154Z",
     "start_time": "2021-10-04T15:20:49.390722Z"
    }
   },
   "outputs": [],
   "source": [
    "# Momentum Compaction Factor\n",
    "eqparam.alpha, pyaccel.optics.get_mcf(model)"
   ]
  },
  {
   "cell_type": "code",
   "execution_count": null,
   "metadata": {
    "ExecuteTime": {
     "end_time": "2021-10-04T15:20:50.897554Z",
     "start_time": "2021-10-04T15:20:50.895195Z"
    }
   },
   "outputs": [],
   "source": [
    "# Emittances\n",
    "eqparam.emit0, eqparam.emitx, eqparam.emity"
   ]
  },
  {
   "cell_type": "code",
   "execution_count": null,
   "metadata": {
    "ExecuteTime": {
     "end_time": "2021-10-04T15:20:50.989487Z",
     "start_time": "2021-10-04T15:20:50.898529Z"
    }
   },
   "outputs": [],
   "source": [
    "# Energy spread, Bunch length\n",
    "eqparam.espread0, eqparam.bunlen"
   ]
  },
  {
   "cell_type": "code",
   "execution_count": null,
   "metadata": {
    "ExecuteTime": {
     "end_time": "2021-10-04T15:20:51.052709Z",
     "start_time": "2021-10-04T15:20:50.996344Z"
    }
   },
   "outputs": [],
   "source": [
    "# Damping times\n",
    "eqparam.taux, eqparam.tauy, eqparam.taue"
   ]
  },
  {
   "cell_type": "markdown",
   "metadata": {
    "ExecuteTime": {
     "end_time": "2021-09-16T18:07:28.331922Z",
     "start_time": "2021-09-16T18:07:28.327629Z"
    },
    "heading_collapsed": true
   },
   "source": [
    "### One-turn matrix"
   ]
  },
  {
   "cell_type": "code",
   "execution_count": null,
   "metadata": {
    "ExecuteTime": {
     "end_time": "2021-10-04T15:21:25.638702Z",
     "start_time": "2021-10-04T15:21:25.501710Z"
    },
    "hidden": true
   },
   "outputs": [],
   "source": [
    "m1turn = pyaccel.tracking.find_m44(model)"
   ]
  },
  {
   "cell_type": "code",
   "execution_count": null,
   "metadata": {
    "ExecuteTime": {
     "end_time": "2021-10-04T15:21:25.715433Z",
     "start_time": "2021-10-04T15:21:25.639884Z"
    },
    "hidden": true
   },
   "outputs": [],
   "source": [
    "np.linalg.det(m1turn[:2, :2]), np.linalg.det(m1turn[2:, 2:])"
   ]
  },
  {
   "cell_type": "markdown",
   "metadata": {},
   "source": [
    "### Closed orbit\n",
    "\n",
    "$r = [x, x', y, y', \\delta, z]^T$\n",
    "\n",
    "idx = [0, 1, 2, 3, 4, 5]"
   ]
  },
  {
   "cell_type": "code",
   "execution_count": null,
   "metadata": {
    "ExecuteTime": {
     "end_time": "2022-08-10T17:59:42.355316Z",
     "start_time": "2022-08-10T17:59:42.115102Z"
    }
   },
   "outputs": [],
   "source": [
    "model = pymodels.si.create_accelerator()\n",
    "model.cavity_on = True"
   ]
  },
  {
   "cell_type": "code",
   "execution_count": null,
   "metadata": {
    "ExecuteTime": {
     "end_time": "2021-10-04T15:21:26.275502Z",
     "start_time": "2021-10-04T15:21:26.227942Z"
    }
   },
   "outputs": [],
   "source": [
    "cod = pyaccel.tracking.find_orbit6(model, indices='open')\n",
    "cod.shape"
   ]
  },
  {
   "cell_type": "code",
   "execution_count": null,
   "metadata": {
    "ExecuteTime": {
     "end_time": "2021-10-04T15:21:26.566515Z",
     "start_time": "2021-10-04T15:21:26.276546Z"
    }
   },
   "outputs": [],
   "source": [
    "plt.figure()\n",
    "spos = pyaccel.lattice.find_spos(model)\n",
    "plt.plot(spos, cod[0, :]*1e3, label=r'$x$')\n",
    "plt.plot(spos, cod[2, :]*1e3, label=r'$y$')\n",
    "plt.xlabel('s [m]')\n",
    "plt.ylabel(r'Closed orbit [mm]')\n",
    "plt.legend()\n",
    "plt.tight_layout(True)\n",
    "plt.show()"
   ]
  },
  {
   "cell_type": "code",
   "execution_count": null,
   "metadata": {
    "ExecuteTime": {
     "end_time": "2021-10-04T15:21:26.816432Z",
     "start_time": "2021-10-04T15:21:26.567526Z"
    }
   },
   "outputs": [],
   "source": [
    "chidx = famdata['CH']['index'][0][0]\n",
    "model[chidx].hkick_polynom = 10e-6 # [rad]\n",
    "codx = pyaccel.tracking.find_orbit6(model, indices='open')\n",
    "model[chidx].hkick_polynom = 0 # [rad]\n",
    "\n",
    "cvidx = famdata['CV']['index'][0][0]\n",
    "model[cvidx].vkick_polynom = 10e-6 # [rad]\n",
    "cody = pyaccel.tracking.find_orbit6(model, indices='open')\n",
    "model[cvidx].vkick_polynom = 0 # [rad]\n",
    "\n",
    "cavidx = famdata['SRFCav']['index'][0][0]\n",
    "model[cavidx].frequency += 100 # [Hz]\n",
    "codrf = pyaccel.tracking.find_orbit6(model, indices='open')\n",
    "model[cavidx].frequency -= 100 # [Hz]\n",
    "\n",
    "bpmidx = famdata['BPM']['index']\n",
    "bpmidx = np.array(bpmidx).ravel()"
   ]
  },
  {
   "cell_type": "code",
   "execution_count": null,
   "metadata": {
    "ExecuteTime": {
     "end_time": "2021-10-04T15:21:27.091009Z",
     "start_time": "2021-10-04T15:21:26.817456Z"
    }
   },
   "outputs": [],
   "source": [
    "plt.figure()\n",
    "spos = pyaccel.lattice.find_spos(model)\n",
    "plt.plot(spos, codx[0, :]*1e6, label=r'$x$')\n",
    "plt.plot(spos[bpmidx], codx[0, bpmidx]*1e6, '-o', color='C0')\n",
    "plt.plot(spos, codx[2, :]*1e6, label=r'$y$')\n",
    "plt.plot(spos[bpmidx], codx[2, bpmidx]*1e6, '-o', color='C1')\n",
    "\n",
    "plt.xlabel('s [m]')\n",
    "plt.ylabel(r'Closed orbit [um]')\n",
    "plt.title('Horizontal Kick')\n",
    "plt.legend()\n",
    "plt.tight_layout()\n",
    "plt.show()"
   ]
  },
  {
   "cell_type": "code",
   "execution_count": null,
   "metadata": {
    "ExecuteTime": {
     "end_time": "2021-10-04T15:21:27.306861Z",
     "start_time": "2021-10-04T15:21:27.092163Z"
    }
   },
   "outputs": [],
   "source": [
    "plt.figure()\n",
    "spos = pyaccel.lattice.find_spos(model)\n",
    "plt.plot(spos, cody[0, :]*1e6, label=r'$x$')\n",
    "plt.plot(spos[bpmidx], cody[0, bpmidx]*1e6, 'o', color='C0')\n",
    "plt.plot(spos, cody[2, :]*1e6, label=r'$y$')\n",
    "plt.plot(spos[bpmidx], cody[2, bpmidx]*1e6, 'o', color='C1')\n",
    "plt.xlabel('s [m]')\n",
    "plt.ylabel(r'Closed orbit [um]')\n",
    "plt.title('Vertical Kick')\n",
    "plt.legend()\n",
    "plt.tight_layout()\n",
    "plt.show()"
   ]
  },
  {
   "cell_type": "code",
   "execution_count": null,
   "metadata": {
    "ExecuteTime": {
     "end_time": "2021-10-04T15:21:27.536555Z",
     "start_time": "2021-10-04T15:21:27.307949Z"
    }
   },
   "outputs": [],
   "source": [
    "plt.figure()\n",
    "spos = pyaccel.lattice.find_spos(model)\n",
    "plt.plot(spos, codrf[0, :]*1e6, label=r'$x$')\n",
    "plt.plot(spos[bpmidx], codrf[0, bpmidx]*1e6, '.', color='C0')\n",
    "plt.plot(spos, codrf[2, :]*1e6, label=r'$y$')\n",
    "plt.plot(spos[bpmidx], codrf[2, bpmidx]*1e6, '.', color='C1')\n",
    "plt.xlabel('s [m]')\n",
    "plt.ylabel(r'Closed orbit [um]')\n",
    "plt.title('RF Frequency Variation')\n",
    "plt.legend()\n",
    "plt.tight_layout(True)\n",
    "plt.show()"
   ]
  },
  {
   "cell_type": "markdown",
   "metadata": {},
   "source": [
    "## Tracking"
   ]
  },
  {
   "cell_type": "code",
   "execution_count": null,
   "metadata": {
    "ExecuteTime": {
     "end_time": "2022-08-10T17:58:18.658803Z",
     "start_time": "2022-08-10T17:58:18.369668Z"
    }
   },
   "outputs": [],
   "source": [
    "model = pymodels.si.create_accelerator()\n",
    "model.cavity_on = False\n",
    "model.radiation_on = False"
   ]
  },
  {
   "cell_type": "markdown",
   "metadata": {},
   "source": [
    "Tracking a single particle"
   ]
  },
  {
   "cell_type": "code",
   "execution_count": null,
   "metadata": {
    "ExecuteTime": {
     "end_time": "2022-08-10T17:58:19.648002Z",
     "start_time": "2022-08-10T17:58:19.635027Z"
    }
   },
   "outputs": [],
   "source": [
    "x0 = 100e-6\n",
    "y0 = 1e-6\n",
    "# nturns = 100\n",
    "\n",
    "coord_ini = np.array([x0, 0, y0, 0, 0, 0])\n",
    "coord_fin, *_ = pyaccel.tracking.line_pass(model, coord_ini, indices='open')"
   ]
  },
  {
   "cell_type": "code",
   "execution_count": null,
   "metadata": {
    "ExecuteTime": {
     "end_time": "2022-08-10T18:04:00.668714Z",
     "start_time": "2022-08-10T18:04:00.517581Z"
    }
   },
   "outputs": [],
   "source": [
    "plt.plot(spos, coord_fin[0]*1e6)\n",
    "plt.xlabel('s [m]')\n",
    "plt.ylabel('x [um]')"
   ]
  },
  {
   "cell_type": "markdown",
   "metadata": {},
   "source": [
    "### Tracking a bunch of particles"
   ]
  },
  {
   "cell_type": "code",
   "execution_count": null,
   "metadata": {
    "ExecuteTime": {
     "end_time": "2022-08-10T17:58:22.564859Z",
     "start_time": "2022-08-10T17:58:22.562893Z"
    }
   },
   "outputs": [],
   "source": [
    "# 4D first then switch to 6D\n",
    "model.cavity_on = False\n",
    "model.radiation_on = False"
   ]
  },
  {
   "cell_type": "code",
   "execution_count": null,
   "metadata": {
    "ExecuteTime": {
     "end_time": "2022-08-10T18:00:16.124578Z",
     "start_time": "2022-08-10T18:00:16.116401Z"
    }
   },
   "outputs": [],
   "source": [
    "emitx = eqparam.emit1\n",
    "emity = abs(eqparam.emit2)\n",
    "espread = eqparam.espread0\n",
    "bunlen = eqparam.bunlen\n",
    "npart = 200\n",
    "\n",
    "bunch = pyaccel.tracking.generate_bunch(\n",
    "    emit1=emitx, emit2=emity, sigmae=espread, sigmas=bunlen, optics=twiss[0], n_part=npart, cutoff=3)\n",
    "bunch.shape"
   ]
  },
  {
   "cell_type": "code",
   "execution_count": null,
   "metadata": {
    "ExecuteTime": {
     "end_time": "2022-08-10T18:00:47.871006Z",
     "start_time": "2022-08-10T18:00:18.786978Z"
    }
   },
   "outputs": [],
   "source": [
    "nturns = 500\n",
    "bunch_tbt, *_ = pyaccel.tracking.ring_pass(model, bunch, nr_turns=nturns, turn_by_turn=True, parallel=True)\n",
    "bunch_tbt.shape"
   ]
  },
  {
   "cell_type": "code",
   "execution_count": null,
   "metadata": {
    "ExecuteTime": {
     "end_time": "2022-08-10T18:01:28.950614Z",
     "start_time": "2022-08-10T18:01:28.343616Z"
    }
   },
   "outputs": [],
   "source": [
    "plt.figure(figsize=(12, 8))\n",
    "\n",
    "for part in range(10):\n",
    "    label = f\"$x_0={bunch_tbt[0, part, 0]*1e6:+04.0f}um, x_0'={bunch_tbt[1, part, 0]*1e6:+04.0f}urad$\"\n",
    "    plt.plot(bunch_tbt[0, part, :]*1e6, bunch_tbt[1, part, :]*1e6, marker='.', ls='', label=label)\n",
    "\n",
    "plt.xlabel('$x$ [um]')\n",
    "plt.ylabel(r\"$x'$ [urad]\")\n",
    "plt.title('Phase Space ')\n",
    "plt.legend(loc='center left', bbox_to_anchor=(1, 0.5))\n",
    "plt.tight_layout(True)\n",
    "plt.show()"
   ]
  },
  {
   "cell_type": "code",
   "execution_count": null,
   "metadata": {
    "ExecuteTime": {
     "end_time": "2022-08-10T18:01:39.329096Z",
     "start_time": "2022-08-10T18:01:33.044181Z"
    }
   },
   "outputs": [],
   "source": [
    "bunch[0] += 5e-3\n",
    "nturns = 100\n",
    "bunch_tbt2, *_ = pyaccel.tracking.ring_pass(model, bunch, nr_turns=nturns, turn_by_turn=True, parallel=True)\n",
    "bunch_tbt2.shape"
   ]
  },
  {
   "cell_type": "code",
   "execution_count": null,
   "metadata": {
    "ExecuteTime": {
     "end_time": "2022-08-10T18:01:42.157160Z",
     "start_time": "2022-08-10T18:01:41.458627Z"
    }
   },
   "outputs": [],
   "source": [
    "%matplotlib qt5"
   ]
  },
  {
   "cell_type": "code",
   "execution_count": null,
   "metadata": {
    "ExecuteTime": {
     "end_time": "2022-08-10T18:02:35.222974Z",
     "start_time": "2022-08-10T18:01:43.528227Z"
    }
   },
   "outputs": [],
   "source": [
    "plt.figure(figsize=(8, 8))\n",
    "spos = pyaccel.lattice.find_spos(model)\n",
    "\n",
    "nt = bunch_tbt2.shape[2]-1\n",
    "cmap = plt.cm.jet(np.linspace(0, 1, nt+1))\n",
    "plt.xlim([-7e3, 6e3])\n",
    "plt.ylim([-400, 400])\n",
    "plt.xlabel('$x$ [um]')\n",
    "plt.ylabel(r\"$x'$ [urad]\")\n",
    "plt.title('Phase Space ')\n",
    "plt.tight_layout(True)\n",
    "for i, cor in enumerate(cmap):\n",
    "    plt.plot(bunch_tbt2[0, :, i]*1e6, bunch_tbt2[1, :, i]*1e6, marker='.', ls='', color=cor)\n",
    "    plt.pause(0.5)\n",
    "plt.show()"
   ]
  },
  {
   "cell_type": "code",
   "execution_count": null,
   "metadata": {
    "ExecuteTime": {
     "end_time": "2021-10-04T15:23:05.430626Z",
     "start_time": "2021-10-04T15:23:04.699901Z"
    }
   },
   "outputs": [],
   "source": [
    "plt.figure(figsize=(8, 8))\n",
    "for i in range(npart):\n",
    "    plt.plot(bunch_tbt2[0, i, :]*1e6, color='C0', alpha=0.01)\n",
    "\n",
    "plt.plot(np.mean(bunch_tbt2[0, :, :], axis=0)*1e6, lw=2, color='tab:red', label='Centroid')\n",
    "plt.xlabel('turn index')\n",
    "plt.ylabel(r\"$x$ [um]\")\n",
    "plt.legend()\n",
    "plt.tight_layout(True)\n",
    "plt.show()"
   ]
  },
  {
   "cell_type": "code",
   "execution_count": null,
   "metadata": {
    "ExecuteTime": {
     "end_time": "2021-10-04T15:21:24.956507Z",
     "start_time": "2021-10-04T15:21:23.603872Z"
    }
   },
   "outputs": [],
   "source": [
    "plt.figure()\n",
    "plt.plot(spos, enaccn*100)\n",
    "plt.plot(spos, enaccp*100)\n",
    "plt.xlabel('s [m]')\n",
    "plt.ylabel(r'Touschek Energy Acceptance [%]')\n",
    "plt.title('Energy Acceptance')\n",
    "plt.xlim([0, model.length/20])\n",
    "pyaccel.graphics.draw_lattice(model, offset=0, height=1, gca=True)\n",
    "plt.tight_layout()\n",
    "plt.show()"
   ]
  }
 ],
 "metadata": {
  "hide_input": false,
  "kernelspec": {
   "display_name": "Python 3",
   "language": "python",
   "name": "python3"
  },
  "language_info": {
   "codemirror_mode": {
    "name": "ipython",
    "version": 3
   },
   "file_extension": ".py",
   "mimetype": "text/x-python",
   "name": "python",
   "nbconvert_exporter": "python",
   "pygments_lexer": "ipython3",
   "version": "3.6.9"
  },
  "toc": {
   "base_numbering": 1,
   "nav_menu": {},
   "number_sections": true,
   "sideBar": true,
   "skip_h1_title": false,
   "title_cell": "Table of Contents",
   "title_sidebar": "Contents",
   "toc_cell": false,
   "toc_position": {
    "height": "calc(100% - 180px)",
    "left": "10px",
    "top": "150px",
    "width": "310.167px"
   },
   "toc_section_display": true,
   "toc_window_display": true
  },
  "varInspector": {
   "cols": {
    "lenName": 16,
    "lenType": 16,
    "lenVar": 40
   },
   "kernels_config": {
    "python": {
     "delete_cmd_postfix": "",
     "delete_cmd_prefix": "del ",
     "library": "var_list.py",
     "varRefreshCmd": "print(var_dic_list())"
    },
    "r": {
     "delete_cmd_postfix": ") ",
     "delete_cmd_prefix": "rm(",
     "library": "var_list.r",
     "varRefreshCmd": "cat(var_dic_list()) "
    }
   },
   "types_to_exclude": [
    "module",
    "function",
    "builtin_function_or_method",
    "instance",
    "_Feature"
   ],
   "window_display": false
  }
 },
 "nbformat": 4,
 "nbformat_minor": 2
}
