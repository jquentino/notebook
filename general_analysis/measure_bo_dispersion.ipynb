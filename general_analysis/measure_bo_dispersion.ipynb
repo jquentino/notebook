{
 "cells": [
  {
   "cell_type": "code",
   "execution_count": 8,
   "id": "303da701",
   "metadata": {
    "ExecuteTime": {
     "end_time": "2022-05-16T15:08:42.533999Z",
     "start_time": "2022-05-16T15:08:42.528739Z"
    }
   },
   "outputs": [],
   "source": [
    "import time\n",
    "import numpy as np\n",
    "from apsuite.asparams import BO_MOM_COMPACT\n",
    "from mathphys.functions import save_pickle, load_pickle\n",
    "from siriuspy.devices import SOFB, RFGen, EVG"
   ]
  },
  {
   "cell_type": "markdown",
   "id": "d32fe134",
   "metadata": {},
   "source": [
    "Creating devices"
   ]
  },
  {
   "cell_type": "code",
   "execution_count": 14,
   "id": "d3cc07f3",
   "metadata": {
    "ExecuteTime": {
     "end_time": "2022-05-16T15:21:09.871416Z",
     "start_time": "2022-05-16T15:21:09.813407Z"
    }
   },
   "outputs": [],
   "source": [
    "sofb = SOFB(SOFB.DEVICES.BO)\n",
    "rfgen = RFGen()\n",
    "evg = EVG()"
   ]
  },
  {
   "cell_type": "markdown",
   "id": "b3c85f3d",
   "metadata": {
    "ExecuteTime": {
     "end_time": "2022-05-16T14:54:06.268890Z",
     "start_time": "2022-05-16T14:54:06.260188Z"
    }
   },
   "source": [
    "Useful functions"
   ]
  },
  {
   "cell_type": "code",
   "execution_count": 7,
   "id": "f4375679",
   "metadata": {
    "ExecuteTime": {
     "end_time": "2022-05-16T14:56:45.534021Z",
     "start_time": "2022-05-16T14:56:45.524584Z"
    }
   },
   "outputs": [],
   "source": [
    "def get_orb():\n",
    "    \"\"\".\"\"\"\n",
    "    sofb.cmd_reset()\n",
    "    sofb.wait_buffer()\n",
    "    return np.array([sofb.trajx, sofb.trajy]).transpose()\n",
    "\n",
    "def deltaen(deltaf, freq0):\n",
    "    \"\"\".\"\"\"\n",
    "    return -deltaf/freq0/BO_MOM_COMPACT"
   ]
  },
  {
   "cell_type": "markdown",
   "id": "1bba4072",
   "metadata": {},
   "source": [
    "Saving RF initial state"
   ]
  },
  {
   "cell_type": "code",
   "execution_count": 15,
   "id": "b05ba6ac",
   "metadata": {
    "ExecuteTime": {
     "end_time": "2022-05-16T15:21:11.622062Z",
     "start_time": "2022-05-16T15:21:11.613597Z"
    }
   },
   "outputs": [],
   "source": [
    "f0 = rfgen.frequency"
   ]
  },
  {
   "cell_type": "markdown",
   "id": "d64c3af7",
   "metadata": {},
   "source": [
    "Creating data dict"
   ]
  },
  {
   "cell_type": "code",
   "execution_count": null,
   "id": "a70ec882",
   "metadata": {},
   "outputs": [],
   "source": [
    "data = dict()\n",
    "\n",
    "deltaf = 0\n",
    "freqp = f0 + deltaf\n",
    "freqm = f0 - deltaf\n",
    "data['freqs'] = [freqm, freq0, freqp]"
   ]
  },
  {
   "cell_type": "markdown",
   "id": "97c989bd",
   "metadata": {},
   "source": [
    "Does the measure"
   ]
  },
  {
   "cell_type": "code",
   "execution_count": null,
   "id": "34d26731",
   "metadata": {},
   "outputs": [],
   "source": [
    "# Getting default orbit\n",
    "evg.cmd_turn_on_injection()\n",
    "data['orb0'] = get_orb()\n",
    "\n",
    "time.sleep(2)\n",
    "# Increasing the frequency\n",
    "rfgen.frequency = freqp\n",
    "evg.cmd_turn_on_injection()\n",
    "data['orbp'] = get_orb()\n",
    "\n",
    "time.sleep(2)\n",
    "# Decreasing the frequency\n",
    "rfgen.frequency = freqm\n",
    "evg.cmd_turn_on_injection()\n",
    "data['orbm'] = get_orb()\n",
    "\n",
    "time.sleep(2)\n",
    "# Restore deafault frequency\n",
    "rfgen.frequency = f0"
   ]
  },
  {
   "cell_type": "markdown",
   "id": "d4af4d9d",
   "metadata": {},
   "source": [
    "Computing dispersion"
   ]
  },
  {
   "cell_type": "code",
   "execution_count": null,
   "id": "248fd0ff",
   "metadata": {},
   "outputs": [],
   "source": [
    "denergy = deltaen(deltaf, f0)\n",
    "dispersion = (data['orbp'] - data['orbm'])/2/denergy\n",
    "dispersion *= 1e-4  # Converting from um to cm\n",
    "data['dispersion'] = dispersion\n",
    "data['delta_energy'] = denergy"
   ]
  },
  {
   "cell_type": "markdown",
   "id": "7fa7b692",
   "metadata": {},
   "source": [
    "Saving data"
   ]
  },
  {
   "cell_type": "code",
   "execution_count": null,
   "id": "0cb50a42",
   "metadata": {},
   "outputs": [],
   "source": [
    "save_pickle(f\"bo_disp_deltaf={deltaf:.2f}\")"
   ]
  }
 ],
 "metadata": {
  "kernelspec": {
   "display_name": "Python 3",
   "language": "python",
   "name": "python3"
  },
  "language_info": {
   "codemirror_mode": {
    "name": "ipython",
    "version": 3
   },
   "file_extension": ".py",
   "mimetype": "text/x-python",
   "name": "python",
   "nbconvert_exporter": "python",
   "pygments_lexer": "ipython3",
   "version": "3.6.9"
  },
  "toc": {
   "base_numbering": 1,
   "nav_menu": {},
   "number_sections": true,
   "sideBar": true,
   "skip_h1_title": false,
   "title_cell": "Table of Contents",
   "title_sidebar": "Contents",
   "toc_cell": false,
   "toc_position": {},
   "toc_section_display": true,
   "toc_window_display": false
  },
  "varInspector": {
   "cols": {
    "lenName": 16,
    "lenType": 16,
    "lenVar": 40
   },
   "kernels_config": {
    "python": {
     "delete_cmd_postfix": "",
     "delete_cmd_prefix": "del ",
     "library": "var_list.py",
     "varRefreshCmd": "print(var_dic_list())"
    },
    "r": {
     "delete_cmd_postfix": ") ",
     "delete_cmd_prefix": "rm(",
     "library": "var_list.r",
     "varRefreshCmd": "cat(var_dic_list()) "
    }
   },
   "types_to_exclude": [
    "module",
    "function",
    "builtin_function_or_method",
    "instance",
    "_Feature"
   ],
   "window_display": false
  }
 },
 "nbformat": 4,
 "nbformat_minor": 5
}
