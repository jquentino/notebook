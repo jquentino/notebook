{
 "cells": [
  {
   "cell_type": "code",
   "execution_count": 2,
   "id": "ff5ac217",
   "metadata": {
    "ExecuteTime": {
     "end_time": "2022-04-18T17:16:30.381055Z",
     "start_time": "2022-04-18T17:16:30.376880Z"
    }
   },
   "outputs": [],
   "source": [
    "import pyaccel as pa\n",
    "import pymodels as pm\n",
    "import matplotlib.pyplot as plt\n",
    "from apsuite.commisslib.bo_emittance_exchange import EmittanceExchangeSimul"
   ]
  },
  {
   "cell_type": "markdown",
   "id": "ff39a3ac",
   "metadata": {},
   "source": [
    "Tracking"
   ]
  },
  {
   "cell_type": "code",
   "execution_count": 8,
   "id": "cb95cff6",
   "metadata": {
    "ExecuteTime": {
     "end_time": "2022-04-18T17:19:49.721791Z",
     "start_time": "2022-04-18T17:19:49.344007Z"
    }
   },
   "outputs": [],
   "source": [
    "simul = EmittanceExchangeSimul(c=0.01, s=3.0, radiation=False)"
   ]
  },
  {
   "cell_type": "code",
   "execution_count": 9,
   "id": "aeae9e58",
   "metadata": {
    "ExecuteTime": {
     "end_time": "2022-04-18T17:19:50.386695Z",
     "start_time": "2022-04-18T17:19:50.221585Z"
    }
   },
   "outputs": [],
   "source": [
    "simul.generate_bunch(2000)"
   ]
  },
  {
   "cell_type": "code",
   "execution_count": 10,
   "id": "4f355416",
   "metadata": {
    "ExecuteTime": {
     "end_time": "2022-04-18T17:21:12.092756Z",
     "start_time": "2022-04-18T17:19:51.038957Z"
    }
   },
   "outputs": [
    {
     "name": "stdout",
     "output_type": "stream",
     "text": [
      "---------------------Tracking particles----------------------\n",
      "Initial delta = -10.984 [C] \n",
      " N = 732\n",
      "step 0\t\n",
      "\n",
      "step 100\tstep 200\tstep 300\tstep 400\tstep 500\t\n",
      "\n",
      "step 600\tstep 700\tDone!\n"
     ]
    }
   ],
   "source": [
    "simul.dynamic_emit_exchange()"
   ]
  },
  {
   "cell_type": "markdown",
   "id": "13ec998c",
   "metadata": {},
   "source": [
    "Analytical model\n",
    "\\begin{equation}\n",
    " \\epsilon_x^{RMS} = \\epsilon_{x0}^{RMS} + g(\\Delta, |C|) \\frac{\\epsilon^{RMS}_{y0} - \\epsilon^{RMS}_{x0}}{2}, \\\\\n",
    "    \\epsilon_{y0}^{RMS} = \\epsilon_{y0}^{RMS} - g(\\Delta, |C|) \\frac{\\epsilon^{RMS}_{y0} - \\epsilon^{RMS}_{x0}}{2}.\n",
    "\\end{equation}\n",
    "\n",
    "with \n",
    "\\begin{equation}\n",
    "g(|C|, \\Delta) = \\frac{|C|^2}{\\Delta^2 + |C|^2 + \\Delta\\sqrt{\\Delta^2 + |C|^2}},\n",
    "\\end{equation}"
   ]
  },
  {
   "cell_type": "code",
   "execution_count": 12,
   "id": "263b5e77",
   "metadata": {
    "ExecuteTime": {
     "end_time": "2022-04-18T17:23:27.188801Z",
     "start_time": "2022-04-18T17:23:27.184192Z"
    }
   },
   "outputs": [],
   "source": [
    "emitx0, emity0 = simul.emittances[:, 0]"
   ]
  },
  {
   "cell_type": "code",
   "execution_count": 21,
   "id": "bb92de78",
   "metadata": {
    "ExecuteTime": {
     "end_time": "2022-04-18T17:29:14.691487Z",
     "start_time": "2022-04-18T17:29:14.686565Z"
    }
   },
   "outputs": [],
   "source": [
    "g = lambda delta, c: c**2/(delta**2 + c**2 - delta*np.sqrt(delta**2+c**2))"
   ]
  },
  {
   "cell_type": "code",
   "execution_count": 24,
   "id": "1e9ea2fe",
   "metadata": {
    "ExecuteTime": {
     "end_time": "2022-04-18T17:29:36.536717Z",
     "start_time": "2022-04-18T17:29:36.527665Z"
    }
   },
   "outputs": [],
   "source": [
    "emitx_an = emitx0 + g(simul.deltas, simul.coupling_coeff)*(emity0 - emitx0)/2\n",
    "emity_an = emity0 - g(simul.deltas, simul.coupling_coeff)*(emity0 - emitx0)/2"
   ]
  },
  {
   "cell_type": "code",
   "execution_count": 59,
   "id": "82f9277f",
   "metadata": {
    "ExecuteTime": {
     "end_time": "2022-04-18T18:43:00.287618Z",
     "start_time": "2022-04-18T18:42:59.697460Z"
    }
   },
   "outputs": [
    {
     "data": {
      "image/png": "[encoded data removed]",
      "text/plain": [
       "<Figure size 432x288 with 1 Axes>"
      ]
     },
     "metadata": {
      "needs_background": "light"
     },
     "output_type": "display_data"
    }
   ],
   "source": [
    "plt.style.use(['science'])\n",
    "plt.figure(figsize=(6,4))\n",
    "    \n",
    "plt.plot(simul.deltas, emitx_an*1e9, lw=2,label='$\\epsilon_x,$ analytical model', c='C0')\n",
    "plt.plot(simul.deltas, emity_an*1e9, lw=2,label='$\\epsilon_y,$ analytical model', c='C2')\n",
    "plt.scatter(simul.deltas, simul.emittances[0]*1e9, s=2, marker='o', c='k',label='$\\epsilon_x,$ tracking')\n",
    "plt.scatter(simul.deltas, simul.emittances[1]*1e9, s=2, marker='o', c='r',label='$\\epsilon_y,$ tracking')\n",
    "plt.xlabel('$\\Delta$')\n",
    "plt.ylabel('$\\epsilon$ [nm]')\n",
    "# plt.title('Comparasion between analytical model and tracking for the Sirius lattice')\n",
    "plt.tight_layout()\n",
    "plt.legend(loc='center left', fontsize=14)\n",
    "plt.savefig(fname='figures/emit_exchange_studies/analytical_vs_tracking.pdf')"
   ]
  }
 ],
 "metadata": {
  "kernelspec": {
   "display_name": "Python 3",
   "language": "python",
   "name": "python3"
  },
  "language_info": {
   "codemirror_mode": {
    "name": "ipython",
    "version": 3
   },
   "file_extension": ".py",
   "mimetype": "text/x-python",
   "name": "python",
   "nbconvert_exporter": "python",
   "pygments_lexer": "ipython3",
   "version": "3.6.9"
  },
  "toc": {
   "base_numbering": 1,
   "nav_menu": {},
   "number_sections": true,
   "sideBar": true,
   "skip_h1_title": false,
   "title_cell": "Table of Contents",
   "title_sidebar": "Contents",
   "toc_cell": false,
   "toc_position": {},
   "toc_section_display": true,
   "toc_window_display": false
  },
  "varInspector": {
   "cols": {
    "lenName": 16,
    "lenType": 16,
    "lenVar": 40
   },
   "kernels_config": {
    "python": {
     "delete_cmd_postfix": "",
     "delete_cmd_prefix": "del ",
     "library": "var_list.py",
     "varRefreshCmd": "print(var_dic_list())"
    },
    "r": {
     "delete_cmd_postfix": ") ",
     "delete_cmd_prefix": "rm(",
     "library": "var_list.r",
     "varRefreshCmd": "cat(var_dic_list()) "
    }
   },
   "types_to_exclude": [
    "module",
    "function",
    "builtin_function_or_method",
    "instance",
    "_Feature"
   ],
   "window_display": false
  }
 },
 "nbformat": 4,
 "nbformat_minor": 5
}
