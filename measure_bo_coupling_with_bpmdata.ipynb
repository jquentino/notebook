{
 "cells": [
  {
   "cell_type": "markdown",
   "id": "9bccbfc6",
   "metadata": {},
   "source": [
    "Importing packages"
   ]
  },
  {
   "cell_type": "code",
   "execution_count": null,
   "id": "6a24e8af",
   "metadata": {
    "ExecuteTime": {
     "end_time": "2022-02-24T12:15:01.037628Z",
     "start_time": "2022-02-24T12:15:00.072588Z"
    }
   },
   "outputs": [],
   "source": [
    "%matplotlib qt5\n",
    "\n",
    "import numpy as np\n",
    "import matplotlib.pyplot as plt\n",
    "import pymodels as pm\n",
    "from siriuspy.devices import PowerSupplyPU, PowerSupply, Trigger, FamBPMs\n",
    "from apsuite.commisslib.meas_bo_tune_by_bpm import BOTunebyBPMParams, BOTunebyBPM"
   ]
  },
  {
   "cell_type": "markdown",
   "id": "d97bd0ac",
   "metadata": {},
   "source": [
    "# Preparatives"
   ]
  },
  {
   "cell_type": "markdown",
   "id": "ed1e418e",
   "metadata": {
    "heading_collapsed": true
   },
   "source": [
    "## Reducing the BO extraction kicker delay in 10 ms. "
   ]
  },
  {
   "cell_type": "code",
   "execution_count": null,
   "id": "16488b06",
   "metadata": {
    "ExecuteTime": {
     "end_time": "2022-02-23T14:09:41.403447Z",
     "start_time": "2022-02-23T14:09:41.392567Z"
    },
    "hidden": true
   },
   "outputs": [],
   "source": [
    "ejekckr = PowerSupplyPU(PowerSupplyPU.DEVICES.BO_EJE_KCKR)\n",
    "# ejekckr_delay0 = ejekckr.delay\n",
    "# ejekckr.delay = ejekckr_delay0 - 10000 "
   ]
  },
  {
   "cell_type": "markdown",
   "id": "2f9aec4d",
   "metadata": {
    "heading_collapsed": true
   },
   "source": [
    "## Configure BPMs to start storing data at the same time of the kicker pulse and set the number of points"
   ]
  },
  {
   "cell_type": "code",
   "execution_count": null,
   "id": "b6edafb1",
   "metadata": {
    "ExecuteTime": {
     "end_time": "2022-02-23T14:09:43.343373Z",
     "start_time": "2022-02-23T14:09:43.340793Z"
    },
    "hidden": true
   },
   "outputs": [],
   "source": [
    "params = BOTunebyBPMParams()\n",
    "params.event = 'DigBO'           # |Must be the same as ejekckr\n",
    "params.trigger_source = 'InjBO'  # |\n",
    "params.trigger_source_mode = 'Disabled'\n",
    "params.extra_delay = ejekckr.delay  # Same delay as ejekckr\n",
    "params.nr_pulses = 1\n",
    "params.nr_points_after = 6035\n",
    "params.nr_points_before = 500\n",
    "params.bpms_timeout = 30  # [s]"
   ]
  },
  {
   "cell_type": "code",
   "execution_count": null,
   "id": "b25d0827",
   "metadata": {
    "ExecuteTime": {
     "end_time": "2022-02-23T14:11:57.404139Z",
     "start_time": "2022-02-23T14:11:57.368978Z"
    },
    "hidden": true,
    "scrolled": true
   },
   "outputs": [],
   "source": [
    "measobj = BOTunebyBPM(params=params, isonline=False)\n",
    "measobj.configure_bpms()"
   ]
  },
  {
   "cell_type": "markdown",
   "id": "aadd6db4",
   "metadata": {
    "heading_collapsed": true
   },
   "source": [
    "## Approaching  tunes"
   ]
  },
  {
   "cell_type": "markdown",
   "id": "c1afe2c2",
   "metadata": {
    "hidden": true
   },
   "source": [
    "**Make this part in BO control screen:**\n",
    "\n",
    "Approach tunes until $\\Delta \\approx 0.025.$"
   ]
  },
  {
   "cell_type": "markdown",
   "id": "eb78f2b0",
   "metadata": {
    "heading_collapsed": true
   },
   "source": [
    "## Inject (with the kicker on) and get the test data"
   ]
  },
  {
   "cell_type": "code",
   "execution_count": null,
   "id": "5853a385",
   "metadata": {
    "ExecuteTime": {
     "end_time": "2022-02-18T17:34:21.035772Z",
     "start_time": "2022-02-18T17:34:21.030116Z"
    },
    "hidden": true
   },
   "outputs": [],
   "source": [
    "measobj.get_orbit(injection=False, external_trigger=False)"
   ]
  },
  {
   "cell_type": "code",
   "execution_count": null,
   "id": "f52932cb",
   "metadata": {
    "hidden": true
   },
   "outputs": [],
   "source": [
    "measobj.save_pickle(fname = 'data_for_test')"
   ]
  },
  {
   "cell_type": "markdown",
   "id": "8a3fc491",
   "metadata": {
    "heading_collapsed": true
   },
   "source": [
    "## Checking orbit and tunes"
   ]
  },
  {
   "cell_type": "markdown",
   "id": "ca4e8c1d",
   "metadata": {
    "hidden": true
   },
   "source": [
    "Looking at the oscillations"
   ]
  },
  {
   "cell_type": "code",
   "execution_count": null,
   "id": "b27e39e1",
   "metadata": {
    "hidden": true
   },
   "outputs": [],
   "source": [
    "data = measobj.data\n",
    "orbx0, orby0 = data['orbx'][:, 0], data['orby'][:, 0]\n",
    "x = orbx0 - orbx0.mean(axis=0)\n",
    "y = orby0 - orby0.mean(axis=0)"
   ]
  },
  {
   "cell_type": "code",
   "execution_count": null,
   "id": "13a88003",
   "metadata": {
    "hidden": true
   },
   "outputs": [],
   "source": [
    "ax,fig = plt.subplots(2,1, sharex=True)\n",
    "fig.set_suptitle(\"Betatron Oscillations \")\n",
    "ax[0].plot(x)\n",
    "ax[1].plot(y)\n",
    "ax[1].set_xlabel('Turns')\n",
    "ax[0].set_ylabel('x')\n",
    "ax[1].set_ylabel('y')"
   ]
  },
  {
   "cell_type": "markdown",
   "id": "5aa1f1ac",
   "metadata": {
    "hidden": true
   },
   "source": [
    "Checking the Tunes"
   ]
  },
  {
   "cell_type": "code",
   "execution_count": null,
   "id": "ed7757d0",
   "metadata": {
    "ExecuteTime": {
     "end_time": "2022-02-18T17:41:39.412902Z",
     "start_time": "2022-02-18T17:41:39.405012Z"
    },
    "hidden": true
   },
   "outputs": [],
   "source": [
    "spectrumx, spectrumy, freqs = measobj.dft(bpm_indices=[0])\n",
    "plt.plot(spectrumx)"
   ]
  },
  {
   "cell_type": "code",
   "execution_count": null,
   "id": "0c274722",
   "metadata": {
    "hidden": true
   },
   "outputs": [],
   "source": [
    "tune1, tune2 = measobj.naff_tunes(self, dn=200, window_param=1, bpm_indices=None)\n",
    "plt.plot(tune1)\n",
    "plt.plot(tune2)\n",
    "plt.title('Tune evolution')\n",
    "plt.xlabel('Turns')\n",
    "pĺt.ylabel(r'$\\nu$')\n",
    "delta = tune1 - tune2\n",
    "print(f'Delta = {delta}')"
   ]
  },
  {
   "cell_type": "code",
   "execution_count": null,
   "id": "45f37aa2",
   "metadata": {
    "hidden": true
   },
   "outputs": [],
   "source": [
    "tune1_matrix, tune2_matrix, freqs, revs = spectrogram(\n",
    "    self, dn=None, overlap=True, bpm_indices=None)"
   ]
  },
  {
   "cell_type": "markdown",
   "id": "b916a9ab",
   "metadata": {
    "heading_collapsed": true
   },
   "source": [
    "# Measure tunes while changing quadrupoles force\n",
    "\n",
    "At each iteration, we must change the tunes in $\\approx 0.002$, in direction to resonance. This corresponds to a change $ dKL \\approx 1.75 e-05$ in quadrupole integrated forces. \n",
    "\n",
    "If $\\nu_x > \\nu_y$, the change must be positive in QD or negative in QF. The opposite follows for the case  $\\nu_x < \\nu_y$."
   ]
  },
  {
   "cell_type": "code",
   "execution_count": null,
   "id": "34e84ac3",
   "metadata": {
    "ExecuteTime": {
     "end_time": "2022-02-23T14:25:14.778060Z",
     "start_time": "2022-02-23T14:25:14.772460Z"
    },
    "hidden": true
   },
   "outputs": [],
   "source": [
    "# Iteration counter\n",
    "i = 0 "
   ]
  },
  {
   "cell_type": "markdown",
   "id": "d45b7931",
   "metadata": {
    "hidden": true
   },
   "source": [
    "**For 25 iterations:**"
   ]
  },
  {
   "cell_type": "markdown",
   "id": "9816144e",
   "metadata": {
    "ExecuteTime": {
     "end_time": "2022-02-23T13:57:27.523830Z",
     "start_time": "2022-02-23T13:57:27.515082Z"
    },
    "hidden": true
   },
   "source": [
    " 1 - In BO control screen, make variation of $d \\Delta \\approx 0.002$"
   ]
  },
  {
   "cell_type": "markdown",
   "id": "01bbf047",
   "metadata": {
    "hidden": true
   },
   "source": [
    "2 - Run the following lines to do the measure and check the result"
   ]
  },
  {
   "cell_type": "code",
   "execution_count": null,
   "id": "d622f5d1",
   "metadata": {
    "ExecuteTime": {
     "end_time": "2022-02-23T14:13:01.030054Z",
     "start_time": "2022-02-23T14:13:01.023964Z"
    },
    "hidden": true
   },
   "outputs": [],
   "source": [
    "measobj.get_orbit()"
   ]
  },
  {
   "cell_type": "code",
   "execution_count": null,
   "id": "75a62ade",
   "metadata": {
    "ExecuteTime": {
     "end_time": "2022-02-23T14:38:46.501001Z",
     "start_time": "2022-02-23T14:38:46.494639Z"
    },
    "hidden": true
   },
   "outputs": [],
   "source": [
    "*_ = spectrogram(\n",
    "    self, dn=None, overlap=True, bpm_indices=[0, 1 ,2, 3, 4, 5])\n",
    "\n",
    "tune1, tune2 = measobj.naff_tunes(self, dn=None, window_param=1, bpm_indices=None)\n",
    "print(f'tune1 = {tune1} \\n tune2 = {tune2} \\n delta = {tune1-tune2}')"
   ]
  },
  {
   "cell_type": "markdown",
   "id": "9fd9cfd0",
   "metadata": {
    "hidden": true
   },
   "source": [
    "3 -Input the tune separation on the method above to store the devices data:"
   ]
  },
  {
   "cell_type": "code",
   "execution_count": null,
   "id": "a851a43b",
   "metadata": {
    "hidden": true
   },
   "outputs": [],
   "source": [
    "delta = None\n",
    "measobj.get_data(delta=delta)"
   ]
  },
  {
   "cell_type": "markdown",
   "id": "37b71f7a",
   "metadata": {
    "hidden": true
   },
   "source": [
    "4 - Save the data dictionary"
   ]
  },
  {
   "cell_type": "code",
   "execution_count": null,
   "id": "8c412f7a",
   "metadata": {
    "hidden": true
   },
   "outputs": [],
   "source": [
    "deltastr = str(measobj.data['delta'])\n",
    "measobj.save_data(fname=deltastr, overwrite=False)"
   ]
  }
 ],
 "metadata": {
  "kernelspec": {
   "display_name": "Python 3",
   "language": "python",
   "name": "python3"
  },
  "language_info": {
   "codemirror_mode": {
    "name": "ipython",
    "version": 3
   },
   "file_extension": ".py",
   "mimetype": "text/x-python",
   "name": "python",
   "nbconvert_exporter": "python",
   "pygments_lexer": "ipython3",
   "version": "3.6.9"
  },
  "toc": {
   "base_numbering": 1,
   "nav_menu": {},
   "number_sections": true,
   "sideBar": true,
   "skip_h1_title": false,
   "title_cell": "Table of Contents",
   "title_sidebar": "Contents",
   "toc_cell": false,
   "toc_position": {},
   "toc_section_display": true,
   "toc_window_display": false
  },
  "varInspector": {
   "cols": {
    "lenName": 16,
    "lenType": 16,
    "lenVar": 40
   },
   "kernels_config": {
    "python": {
     "delete_cmd_postfix": "",
     "delete_cmd_prefix": "del ",
     "library": "var_list.py",
     "varRefreshCmd": "print(var_dic_list())"
    },
    "r": {
     "delete_cmd_postfix": ") ",
     "delete_cmd_prefix": "rm(",
     "library": "var_list.r",
     "varRefreshCmd": "cat(var_dic_list()) "
    }
   },
   "types_to_exclude": [
    "module",
    "function",
    "builtin_function_or_method",
    "instance",
    "_Feature"
   ],
   "window_display": false
  }
 },
 "nbformat": 4,
 "nbformat_minor": 5
}
